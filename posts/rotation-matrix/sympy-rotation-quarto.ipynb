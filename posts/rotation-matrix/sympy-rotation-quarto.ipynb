{
 "cells": [
  {
   "cell_type": "raw",
   "id": "2e2a20e0-5e33-4cf5-b7b8-bdd84da7f323",
   "metadata": {},
   "source": [
    "---\n",
    "title: Rotation Matrix\n",
    "date: 2025-06-11\n",
    "description: A post about sympy generated rotation matrix\n",
    "categories: [multibody, reference frame, rotation]\n",
    "image: \"image.jpg\"\n",
    "---"
   ]
  },
  {
   "cell_type": "code",
   "execution_count": 1,
   "id": "9b55b6ed-0b5c-4a3f-b808-c0e21de77980",
   "metadata": {},
   "outputs": [],
   "source": [
    "import numpy as np\n",
    "import pandas as pd\n",
    "pd.set_option(\"display.max_rows\", 1000)\n",
    "\n",
    "import sympy as sm\n",
    "import sympy.physics.mechanics as me\n",
    "\n",
    "from IPython.core.interactiveshell import InteractiveShell\n",
    "InteractiveShell.ast_node_interactivity = \"all\""
   ]
  },
  {
   "cell_type": "code",
   "execution_count": 2,
   "id": "91ce4cc8-6037-4d45-95c1-bb7be6eace9c",
   "metadata": {},
   "outputs": [],
   "source": [
    "sm.init_printing()"
   ]
  },
  {
   "cell_type": "code",
   "execution_count": 3,
   "id": "d474871b-032f-4eb1-98de-1d527eeca583",
   "metadata": {},
   "outputs": [
    {
     "data": {
      "image/png": "[encoded data removed]",
      "text/latex": [
       "$\\displaystyle \\left[\\begin{matrix}\\cos{\\left(\\theta \\right)} & \\sin{\\left(\\theta \\right)} & 0\\\\- \\sin{\\left(\\theta \\right)} & \\cos{\\left(\\theta \\right)} & 0\\\\0 & 0 & 1\\end{matrix}\\right]$"
      ],
      "text/plain": [
       "⎡cos(θ)   sin(θ)  0⎤\n",
       "⎢                  ⎥\n",
       "⎢-sin(θ)  cos(θ)  0⎥\n",
       "⎢                  ⎥\n",
       "⎣   0       0     1⎦"
      ]
     },
     "execution_count": 3,
     "metadata": {},
     "output_type": "execute_result"
    },
    {
     "data": {
      "image/png": "[encoded data removed]",
      "text/latex": [
       "$\\displaystyle \\left[\\begin{matrix}1 & 0 & 0\\\\0 & \\cos{\\left(\\alpha \\right)} & \\sin{\\left(\\alpha \\right)}\\\\0 & - \\sin{\\left(\\alpha \\right)} & \\cos{\\left(\\alpha \\right)}\\end{matrix}\\right]$"
      ],
      "text/plain": [
       "⎡1     0       0   ⎤\n",
       "⎢                  ⎥\n",
       "⎢0  cos(α)   sin(α)⎥\n",
       "⎢                  ⎥\n",
       "⎣0  -sin(α)  cos(α)⎦"
      ]
     },
     "execution_count": 3,
     "metadata": {},
     "output_type": "execute_result"
    }
   ],
   "source": [
    "theta, alpha = sm.symbols('theta, alpha')\n",
    "\n",
    "B_C_A = sm.Matrix([\n",
    "    [sm.cos(theta), sm.sin(theta), 0],\n",
    "    [-sm.sin(theta), sm.cos(theta), 0],\n",
    "    [0, 0, 1],\n",
    "])\n",
    "\n",
    "C_C_B = sm.Matrix([\n",
    "    [1, 0, 0],\n",
    "    [0, sm.cos(alpha), sm.sin(alpha)],\n",
    "    [0, -sm.sin(alpha), sm.cos(alpha)],\n",
    "])\n",
    "\n",
    "B_C_A\n",
    "\n",
    "C_C_B"
   ]
  },
  {
   "cell_type": "code",
   "execution_count": 4,
   "id": "a50ca685-85f4-44b3-a0a9-92f0b5d44dcb",
   "metadata": {},
   "outputs": [
    {
     "data": {
      "image/png": "[encoded data removed]",
      "text/latex": [
       "$\\displaystyle \\left[\\begin{matrix}\\cos{\\left(\\theta \\right)} & \\sin{\\left(\\theta \\right)} & 0\\\\- \\sin{\\left(\\theta \\right)} \\cos{\\left(\\alpha \\right)} & \\cos{\\left(\\alpha \\right)} \\cos{\\left(\\theta \\right)} & \\sin{\\left(\\alpha \\right)}\\\\\\sin{\\left(\\alpha \\right)} \\sin{\\left(\\theta \\right)} & - \\sin{\\left(\\alpha \\right)} \\cos{\\left(\\theta \\right)} & \\cos{\\left(\\alpha \\right)}\\end{matrix}\\right]$"
      ],
      "text/plain": [
       "⎡    cos(θ)          sin(θ)        0   ⎤\n",
       "⎢                                      ⎥\n",
       "⎢-sin(θ)⋅cos(α)  cos(α)⋅cos(θ)   sin(α)⎥\n",
       "⎢                                      ⎥\n",
       "⎣sin(α)⋅sin(θ)   -sin(α)⋅cos(θ)  cos(α)⎦"
      ]
     },
     "execution_count": 4,
     "metadata": {},
     "output_type": "execute_result"
    }
   ],
   "source": [
    "C_C_A = C_C_B * B_C_A\n",
    "\n",
    "C_C_A"
   ]
  },
  {
   "cell_type": "code",
   "execution_count": 5,
   "id": "6ef82fc0-ba05-4bf7-ad37-5e65399f451f",
   "metadata": {},
   "outputs": [],
   "source": [
    "A = me.ReferenceFrame('A')\n",
    "B = me.ReferenceFrame('B')\n",
    "C = me.ReferenceFrame('C')"
   ]
  },
  {
   "cell_type": "code",
   "execution_count": 6,
   "id": "caeaf4fa-c3fc-43d2-bc7b-33a2b876e0a5",
   "metadata": {},
   "outputs": [
    {
     "data": {
      "image/png": "[encoded data removed]",
      "text/latex": [
       "$\\displaystyle \\left( \\mathbf{\\hat{a}_x}, \\  \\mathbf{\\hat{a}_y}, \\  \\mathbf{\\hat{a}_z}\\right)$"
      ],
      "text/plain": [
       "(a_x, a_y, a_z)"
      ]
     },
     "execution_count": 6,
     "metadata": {},
     "output_type": "execute_result"
    }
   ],
   "source": [
    "A.x, A.y, A.z"
   ]
  },
  {
   "cell_type": "code",
   "execution_count": 7,
   "id": "61795184-e6cb-4ba6-a59a-ef9b9fea3588",
   "metadata": {},
   "outputs": [
    {
     "data": {
      "image/png": "[encoded data removed]",
      "text/latex": [
       "$\\displaystyle \\left[\\begin{matrix}\\cos{\\left(\\theta \\right)} & \\sin{\\left(\\theta \\right)} & 0\\\\- \\sin{\\left(\\theta \\right)} & \\cos{\\left(\\theta \\right)} & 0\\\\0 & 0 & 1\\end{matrix}\\right]$"
      ],
      "text/plain": [
       "⎡cos(θ)   sin(θ)  0⎤\n",
       "⎢                  ⎥\n",
       "⎢-sin(θ)  cos(θ)  0⎥\n",
       "⎢                  ⎥\n",
       "⎣   0       0     1⎦"
      ]
     },
     "execution_count": 7,
     "metadata": {},
     "output_type": "execute_result"
    }
   ],
   "source": [
    "B.orient_axis(A, theta, A.z)\n",
    "B.dcm(A)"
   ]
  },
  {
   "cell_type": "code",
   "execution_count": 8,
   "id": "cba7a069-ea69-4b8c-bded-7c87d374c201",
   "metadata": {},
   "outputs": [
    {
     "data": {
      "image/png": "[encoded data removed]",
      "text/latex": [
       "$\\displaystyle \\left[\\begin{matrix}1 & 0 & 0\\\\0 & \\cos{\\left(\\alpha \\right)} & \\sin{\\left(\\alpha \\right)}\\\\0 & - \\sin{\\left(\\alpha \\right)} & \\cos{\\left(\\alpha \\right)}\\end{matrix}\\right]$"
      ],
      "text/plain": [
       "⎡1     0       0   ⎤\n",
       "⎢                  ⎥\n",
       "⎢0  cos(α)   sin(α)⎥\n",
       "⎢                  ⎥\n",
       "⎣0  -sin(α)  cos(α)⎦"
      ]
     },
     "execution_count": 8,
     "metadata": {},
     "output_type": "execute_result"
    }
   ],
   "source": [
    "C.orient_axis(B, alpha, B.x)\n",
    "C.dcm(B)"
   ]
  },
  {
   "cell_type": "code",
   "execution_count": 9,
   "id": "66bc4887-d884-4040-a4e4-f5184c0be16e",
   "metadata": {},
   "outputs": [
    {
     "data": {
      "image/png": "[encoded data removed]",
      "text/latex": [
       "$\\displaystyle \\left[\\begin{matrix}\\cos{\\left(\\theta \\right)} & \\sin{\\left(\\theta \\right)} & 0\\\\- \\sin{\\left(\\theta \\right)} \\cos{\\left(\\alpha \\right)} & \\cos{\\left(\\alpha \\right)} \\cos{\\left(\\theta \\right)} & \\sin{\\left(\\alpha \\right)}\\\\\\sin{\\left(\\alpha \\right)} \\sin{\\left(\\theta \\right)} & - \\sin{\\left(\\alpha \\right)} \\cos{\\left(\\theta \\right)} & \\cos{\\left(\\alpha \\right)}\\end{matrix}\\right]$"
      ],
      "text/plain": [
       "⎡    cos(θ)          sin(θ)        0   ⎤\n",
       "⎢                                      ⎥\n",
       "⎢-sin(θ)⋅cos(α)  cos(α)⋅cos(θ)   sin(α)⎥\n",
       "⎢                                      ⎥\n",
       "⎣sin(α)⋅sin(θ)   -sin(α)⋅cos(θ)  cos(α)⎦"
      ]
     },
     "execution_count": 9,
     "metadata": {},
     "output_type": "execute_result"
    }
   ],
   "source": [
    "C.dcm(A)"
   ]
  },
  {
   "cell_type": "code",
   "execution_count": 10,
   "id": "b6239a50-091b-4691-bb81-07bd08078110",
   "metadata": {},
   "outputs": [],
   "source": [
    "A = me.ReferenceFrame('A')\n",
    "C = me.ReferenceFrame('C')"
   ]
  },
  {
   "cell_type": "code",
   "execution_count": 11,
   "id": "df8b5fdb-9668-4f3e-b21c-2494f3ed1387",
   "metadata": {},
   "outputs": [],
   "source": [
    "psi, theta, phi = sm.symbols('psi, theta, varphi')"
   ]
  },
  {
   "cell_type": "code",
   "execution_count": 12,
   "id": "f658ce7f-279c-45b4-9fc4-0aa328c2701c",
   "metadata": {},
   "outputs": [
    {
     "data": {
      "image/png": "[encoded data removed]",
      "text/latex": [
       "$\\displaystyle \\left[\\begin{matrix}- \\sin{\\left(\\psi \\right)} \\sin{\\left(\\varphi \\right)} \\cos{\\left(\\theta \\right)} + \\cos{\\left(\\psi \\right)} \\cos{\\left(\\varphi \\right)} & \\sin{\\left(\\psi \\right)} \\cos{\\left(\\varphi \\right)} + \\sin{\\left(\\varphi \\right)} \\cos{\\left(\\psi \\right)} \\cos{\\left(\\theta \\right)} & \\sin{\\left(\\theta \\right)} \\sin{\\left(\\varphi \\right)}\\\\- \\sin{\\left(\\psi \\right)} \\cos{\\left(\\theta \\right)} \\cos{\\left(\\varphi \\right)} - \\sin{\\left(\\varphi \\right)} \\cos{\\left(\\psi \\right)} & - \\sin{\\left(\\psi \\right)} \\sin{\\left(\\varphi \\right)} + \\cos{\\left(\\psi \\right)} \\cos{\\left(\\theta \\right)} \\cos{\\left(\\varphi \\right)} & \\sin{\\left(\\theta \\right)} \\cos{\\left(\\varphi \\right)}\\\\\\sin{\\left(\\psi \\right)} \\sin{\\left(\\theta \\right)} & - \\sin{\\left(\\theta \\right)} \\cos{\\left(\\psi \\right)} & \\cos{\\left(\\theta \\right)}\\end{matrix}\\right]$"
      ],
      "text/plain": [
       "⎡-sin(ψ)⋅sin(varphi)⋅cos(θ) + cos(ψ)⋅cos(varphi)  sin(ψ)⋅cos(varphi) + sin(var ↪\n",
       "⎢                                                                              ↪\n",
       "⎢-sin(ψ)⋅cos(θ)⋅cos(varphi) - sin(varphi)⋅cos(ψ)  -sin(ψ)⋅sin(varphi) + cos(ψ) ↪\n",
       "⎢                                                                              ↪\n",
       "⎣                 sin(ψ)⋅sin(θ)                                   -sin(θ)⋅cos( ↪\n",
       "\n",
       "↪ phi)⋅cos(ψ)⋅cos(θ)   sin(θ)⋅sin(varphi)⎤\n",
       "↪                                        ⎥\n",
       "↪ ⋅cos(θ)⋅cos(varphi)  sin(θ)⋅cos(varphi)⎥\n",
       "↪                                        ⎥\n",
       "↪ ψ)                         cos(θ)      ⎦"
      ]
     },
     "execution_count": 12,
     "metadata": {},
     "output_type": "execute_result"
    }
   ],
   "source": [
    "C.orient_body_fixed(A, (psi, theta, phi), 'ZXZ')\n",
    "C.dcm(A)"
   ]
  },
  {
   "cell_type": "code",
   "execution_count": null,
   "id": "26735234-1f78-4bc0-93f8-af821811e017",
   "metadata": {},
   "outputs": [],
   "source": []
  }
 ],
 "metadata": {
  "kernelspec": {
   "display_name": "Python 3 (ipykernel)",
   "language": "python",
   "name": "python3"
  },
  "language_info": {
   "codemirror_mode": {
    "name": "ipython",
    "version": 3
   },
   "file_extension": ".py",
   "mimetype": "text/x-python",
   "name": "python",
   "nbconvert_exporter": "python",
   "pygments_lexer": "ipython3",
   "version": "3.12.9"
  }
 },
 "nbformat": 4,
 "nbformat_minor": 5
}
